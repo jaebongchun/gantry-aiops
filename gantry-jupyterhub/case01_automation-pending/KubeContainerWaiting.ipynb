{
 "cells": [
  {
   "cell_type": "code",
   "execution_count": 38,
   "metadata": {},
   "outputs": [],
   "source": [
    "import os\n",
    "import requests\n",
    "import json\n",
    "import pandas as pd\n",
    "import subprocess\n",
    "\n",
    "from spellchecker import SpellChecker"
   ]
  },
  {
   "cell_type": "code",
   "execution_count": 39,
   "metadata": {},
   "outputs": [],
   "source": [
    "prom_query_url = 'http://13.125.63.249:30915/api/v1/query?query='"
   ]
  },
  {
   "cell_type": "code",
   "execution_count": 40,
   "metadata": {},
   "outputs": [],
   "source": [
    "def call_data(url, query):\n",
    "    r = requests.get(url + query)\n",
    "    return r"
   ]
  },
  {
   "cell_type": "code",
   "execution_count": 41,
   "metadata": {},
   "outputs": [
    {
     "data": {
      "text/plain": [
       "{'status': 'success',\n",
       " 'data': {'resultType': 'vector',\n",
       "  'result': [{'metric': {'__name__': 'ALERTS',\n",
       "     'alertname': 'KubeContainerWaiting',\n",
       "     'alertstate': 'firing',\n",
       "     'container': 'test-mysql',\n",
       "     'namespace': 'test-pending',\n",
       "     'pod': 'test-mysql',\n",
       "     'severity': 'warning'},\n",
       "    'value': [1600250868.047, '1']},\n",
       "   {'metric': {'__name__': 'ALERTS',\n",
       "     'alertname': 'KubeContainerWaiting',\n",
       "     'alertstate': 'firing',\n",
       "     'container': 'test-mysql-01',\n",
       "     'namespace': 'test-pending',\n",
       "     'pod': 'test-mysql-01',\n",
       "     'severity': 'warning'},\n",
       "    'value': [1600250868.047, '1']},\n",
       "   {'metric': {'__name__': 'ALERTS',\n",
       "     'alertname': 'KubeContainerWaiting',\n",
       "     'alertstate': 'firing',\n",
       "     'container': 'test-mysql-02',\n",
       "     'namespace': 'test-pending',\n",
       "     'pod': 'test-mysql-02',\n",
       "     'severity': 'warning'},\n",
       "    'value': [1600250868.047, '1']},\n",
       "   {'metric': {'__name__': 'ALERTS',\n",
       "     'alertname': 'KubeContainerWaiting',\n",
       "     'alertstate': 'firing',\n",
       "     'container': 'test-mysql-03',\n",
       "     'namespace': 'test-pending',\n",
       "     'pod': 'test-mysql-03',\n",
       "     'severity': 'warning'},\n",
       "    'value': [1600250868.047, '1']},\n",
       "   {'metric': {'__name__': 'ALERTS',\n",
       "     'alertname': 'KubeContainerWaiting',\n",
       "     'alertstate': 'firing',\n",
       "     'container': 'test-pending',\n",
       "     'namespace': 'aiops',\n",
       "     'pod': 'test-pending',\n",
       "     'severity': 'warning'},\n",
       "    'value': [1600250868.047, '1']}]}}"
      ]
     },
     "execution_count": 41,
     "metadata": {},
     "output_type": "execute_result"
    }
   ],
   "source": [
    "url_prom = 'http://13.125.63.249:30915/api/v1/query?query='\n",
    "query = 'ALERTS{alertname=\"KubeContainerWaiting\"}'\n",
    "json.loads(call_data(url_prom, query).text)\n"
   ]
  },
  {
   "cell_type": "code",
   "execution_count": 42,
   "metadata": {},
   "outputs": [],
   "source": [
    "def kube_container_waiting():\n",
    "    ## Alerts case : KubeContainerWaiting\n",
    "    alert_query = 'ALERTS{alertname=\"KubeContainerWaiting\"}'\n",
    "    alert_get = call_data(prom_query_url, alert_query)\n",
    "    alert_message = json.loads(alert_get.text)\n",
    "    \n",
    "    fix_list = []\n",
    "    for item in alert_message['data']['result']:\n",
    "        #print(item)\n",
    "        check_list = {'namespace':item['metric']['namespace'], 'pod':item['metric']['pod']}\n",
    "        #check_list = {item['metric']['namespace'], item['metric']['pod']}\n",
    "        #print(check_list)        \n",
    "        fix_list.append(check_list)     \n",
    "    \n",
    "    return(fix_list) "
   ]
  },
  {
   "cell_type": "code",
   "execution_count": 43,
   "metadata": {},
   "outputs": [],
   "source": [
    "def kubectl_jsonpath():\n",
    "    pending_data = kube_container_waiting()\n",
    "    cnt = len(pending_data)    \n",
    "    df_data = pd.DataFrame(pending_data)\n",
    "    #print(df_data)\n",
    "    \n",
    "    kubectl_result = []\n",
    "    for i in range(cnt):\n",
    "        namespace = df_data.namespace[i]\n",
    "        pod = df_data.pod[i]\n",
    "        \n",
    "        \n",
    "        # !kubectl -n aiops get pods test-pending -o jsonpath='{.status.containerStatuses[*].state.waiting.message}' | awk -F\"\\\"\" '{print $2}'\n",
    "        cli = \"kubectl -n \" + namespace + \" get pods \" + pod + \\\n",
    "              \" -o jsonpath='{.status.containerStatuses[*].state.waiting.message}'\" + \\\n",
    "              \" | awk -F'\\\"' '{print $2}'\"\n",
    "        \n",
    "        kubectl_command_line = subprocess.check_output(cli, shell=True,  encoding='utf-8')\n",
    "        print(\"Pod 이름 : \" + pod + \" 현재 적용된 이미지 : \" + kubectl_command_line)\n",
    "        tmp_string = namespace + \" \" + pod + \" \" + kubectl_command_line\n",
    "        \n",
    "        ### sort :: namespace pod result        \n",
    "        kubectl_result.append(tmp_string)\n",
    "        \n",
    "    return(kubectl_result)\n",
    "    \n"
   ]
  },
  {
   "cell_type": "code",
   "execution_count": 44,
   "metadata": {},
   "outputs": [],
   "source": [
    "def recommand_image():\n",
    "    pending_images = kubectl_jsonpath()\n",
    "    cnt = len(pending_images)\n",
    "    spell = SpellChecker()\n",
    "    spell.word_frequency.load_text_file('./words.txt')\n",
    "    \n",
    "    #result = []\n",
    "    for i in range(cnt):\n",
    "        namespace = pending_images[i].split(' ')[0]\n",
    "        pod = pending_images[i].split(' ')[1]   \n",
    "        m_image = pending_images[i].split(' ')[2]\n",
    "        \n",
    "        #misspelled = spell.unknown([m_image])\n",
    "        tmp_recommend = spell.correction(m_image)\n",
    "        tmp_string = \"namespace: \" + namespace \\\n",
    "                   + \" , pod: \" + pod \\\n",
    "                   + \"\\n\" + \"   =====> Please Check your Pull Image. May be : \" + tmp_recommend \n",
    "        result = tmp_string\n",
    "        print(result)\n",
    "        \n",
    "    #return(result)\n",
    "    "
   ]
  },
  {
   "cell_type": "code",
   "execution_count": 45,
   "metadata": {},
   "outputs": [
    {
     "name": "stdout",
     "output_type": "stream",
     "text": [
      "Pod 이름 : test-mysql 현재 적용된 이미지 : mysqll\n",
      "\n",
      "Pod 이름 : test-mysql-01 현재 적용된 이미지 : mmysq1\n",
      "\n",
      "Pod 이름 : test-mysql-02 현재 적용된 이미지 : mysq1\n",
      "\n",
      "Pod 이름 : test-mysql-03 현재 적용된 이미지 : niginx\n",
      "\n",
      "Pod 이름 : test-pending 현재 적용된 이미지 : nnginx\n",
      "\n",
      "namespace: test-pending , pod: test-mysql\n",
      "   =====> Please Check your Pull Image. May be : mysql\n",
      "namespace: test-pending , pod: test-mysql-01\n",
      "   =====> Please Check your Pull Image. May be : mmysq1\n",
      "\n",
      "namespace: test-pending , pod: test-mysql-02\n",
      "   =====> Please Check your Pull Image. May be : mysql\n",
      "namespace: test-pending , pod: test-mysql-03\n",
      "   =====> Please Check your Pull Image. May be : nginx\n",
      "namespace: aiops , pod: test-pending\n",
      "   =====> Please Check your Pull Image. May be : nginx\n",
      "None\n"
     ]
    }
   ],
   "source": [
    "if __name__==\"__main__\":\n",
    "    #print(kube_container_waiting())\n",
    "    #print(kubectl_jsonpath())\n",
    "    print(recommand_image())\n",
    "    "
   ]
  },
  {
   "cell_type": "code",
   "execution_count": null,
   "metadata": {},
   "outputs": [],
   "source": []
  }
 ],
 "metadata": {
  "kernelspec": {
   "display_name": "Python 3",
   "language": "python",
   "name": "python3"
  },
  "language_info": {
   "codemirror_mode": {
    "name": "ipython",
    "version": 3
   },
   "file_extension": ".py",
   "mimetype": "text/x-python",
   "name": "python",
   "nbconvert_exporter": "python",
   "pygments_lexer": "ipython3",
   "version": "3.7.8"
  }
 },
 "nbformat": 4,
 "nbformat_minor": 4
}
