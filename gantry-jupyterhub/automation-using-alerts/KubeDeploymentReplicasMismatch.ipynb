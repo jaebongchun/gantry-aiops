{
 "cells": [
  {
   "cell_type": "markdown",
   "metadata": {},
   "source": [
    "### 터미널에서 Kubectl 설치 필요\n",
    "```\n",
    "sudo apt-get update && sudo apt-get install -y apt-transport-https gnupg2\n",
    "curl -s https://packages.cloud.google.com/apt/doc/apt-key.gpg | sudo apt-key add -\n",
    "echo \"deb https://apt.kubernetes.io/ kubernetes-xenial main\" | sudo tee -a /etc/apt/sources.list.d/kubernetes.list\n",
    "sudo apt-get update\n",
    "sudo apt-get install -y kubectl=1.16.9-00\n",
    "```"
   ]
  },
  {
   "cell_type": "markdown",
   "metadata": {},
   "source": [
    "### 전체 파드 조회가 필요하므로 .kube/config 설정 필요\n",
    "```\n",
    "vi .kube/config\n",
    "// cto config 설정 //\n",
    "```"
   ]
  },
  {
   "cell_type": "code",
   "execution_count": 49,
   "metadata": {},
   "outputs": [],
   "source": [
    "import os\n",
    "import requests\n",
    "import json\n",
    "import pandas as pd\n",
    "import subprocess\n",
    "\n",
    "from spellchecker import SpellChecker"
   ]
  },
  {
   "cell_type": "code",
   "execution_count": 50,
   "metadata": {},
   "outputs": [],
   "source": [
    "prom_query_url = 'http://13.125.63.249:30915/api/v1/query?query='"
   ]
  },
  {
   "cell_type": "code",
   "execution_count": 51,
   "metadata": {},
   "outputs": [],
   "source": [
    "def call_data(url, query):\n",
    "    r = requests.get(url + query)\n",
    "    return r"
   ]
  },
  {
   "cell_type": "code",
   "execution_count": 52,
   "metadata": {},
   "outputs": [
    {
     "data": {
      "text/plain": [
       "{'status': 'success',\n",
       " 'data': {'resultType': 'vector',\n",
       "  'result': [{'metric': {'__name__': 'ALERTS',\n",
       "     'alertname': 'KubeDeploymentReplicasMismatch',\n",
       "     'alertstate': 'firing',\n",
       "     'deployment': 'test-mysql',\n",
       "     'endpoint': 'http',\n",
       "     'instance': '10.220.105.27:8080',\n",
       "     'job': 'kube-state-metrics',\n",
       "     'namespace': 'test-alerts',\n",
       "     'pod': 'prom-kube-state-metrics-76b6bbdb5b-dpvdk',\n",
       "     'service': 'prom-kube-state-metrics',\n",
       "     'severity': 'critical'},\n",
       "    'value': [1600924095.734, '1']},\n",
       "   {'metric': {'__name__': 'ALERTS',\n",
       "     'alertname': 'KubeDeploymentReplicasMismatch',\n",
       "     'alertstate': 'firing',\n",
       "     'deployment': 'test-mysql-01',\n",
       "     'endpoint': 'http',\n",
       "     'instance': '10.220.105.27:8080',\n",
       "     'job': 'kube-state-metrics',\n",
       "     'namespace': 'test-alerts',\n",
       "     'pod': 'prom-kube-state-metrics-76b6bbdb5b-dpvdk',\n",
       "     'service': 'prom-kube-state-metrics',\n",
       "     'severity': 'critical'},\n",
       "    'value': [1600924095.734, '1']},\n",
       "   {'metric': {'__name__': 'ALERTS',\n",
       "     'alertname': 'KubeDeploymentReplicasMismatch',\n",
       "     'alertstate': 'firing',\n",
       "     'deployment': 'test-mysql-aa',\n",
       "     'endpoint': 'http',\n",
       "     'instance': '10.220.105.27:8080',\n",
       "     'job': 'kube-state-metrics',\n",
       "     'namespace': 'test-alerts',\n",
       "     'pod': 'prom-kube-state-metrics-76b6bbdb5b-dpvdk',\n",
       "     'service': 'prom-kube-state-metrics',\n",
       "     'severity': 'critical'},\n",
       "    'value': [1600924095.734, '1']},\n",
       "   {'metric': {'__name__': 'ALERTS',\n",
       "     'alertname': 'KubeDeploymentReplicasMismatch',\n",
       "     'alertstate': 'pending',\n",
       "     'deployment': 'test-nginx-wrong-image-02',\n",
       "     'endpoint': 'http',\n",
       "     'instance': '10.220.105.27:8080',\n",
       "     'job': 'kube-state-metrics',\n",
       "     'namespace': 'test-alerts',\n",
       "     'pod': 'prom-kube-state-metrics-76b6bbdb5b-dpvdk',\n",
       "     'service': 'prom-kube-state-metrics',\n",
       "     'severity': 'critical'},\n",
       "    'value': [1600924095.734, '1']},\n",
       "   {'metric': {'__name__': 'ALERTS',\n",
       "     'alertname': 'KubeDeploymentReplicasMismatch',\n",
       "     'alertstate': 'pending',\n",
       "     'deployment': 'test-nginx-wrong-image-03',\n",
       "     'endpoint': 'http',\n",
       "     'instance': '10.220.105.27:8080',\n",
       "     'job': 'kube-state-metrics',\n",
       "     'namespace': 'test-alerts',\n",
       "     'pod': 'prom-kube-state-metrics-76b6bbdb5b-dpvdk',\n",
       "     'service': 'prom-kube-state-metrics',\n",
       "     'severity': 'critical'},\n",
       "    'value': [1600924095.734, '1']}]}}"
      ]
     },
     "execution_count": 52,
     "metadata": {},
     "output_type": "execute_result"
    }
   ],
   "source": [
    "url_prom = 'http://13.125.63.249:30915/api/v1/query?query='\n",
    "query = 'ALERTS{alertname=\"KubeDeploymentReplicasMismatch\"}'\n",
    "json.loads(call_data(url_prom, query).text)\n"
   ]
  },
  {
   "cell_type": "code",
   "execution_count": 53,
   "metadata": {},
   "outputs": [],
   "source": [
    "def kube_deployment_replicas_mismatch():\n",
    "    ## Alerts case : KubeContainerWaiting\n",
    "    alert_query = 'ALERTS{alertname=\"KubeDeploymentReplicasMismatch\"}'\n",
    "    alert_get = call_data(prom_query_url, alert_query)\n",
    "    alert_message = json.loads(alert_get.text)\n",
    "    \n",
    "    fix_list = []\n",
    "    for item in alert_message['data']['result']:\n",
    "        #print(item)\n",
    "        check_list = {'namespace':item['metric']['namespace'], 'deployment':item['metric']['deployment']}\n",
    "        #check_list = {item['metric']['namespace'], item['metric']['pod']}\n",
    "        print(check_list)        \n",
    "        fix_list.append(check_list)     \n",
    "    \n",
    "    return(fix_list) "
   ]
  },
  {
   "cell_type": "code",
   "execution_count": 54,
   "metadata": {},
   "outputs": [
    {
     "name": "stdout",
     "output_type": "stream",
     "text": [
      "{'namespace': 'test-alerts', 'deployment': 'test-mysql'}\n",
      "{'namespace': 'test-alerts', 'deployment': 'test-mysql-01'}\n",
      "{'namespace': 'test-alerts', 'deployment': 'test-mysql-aa'}\n",
      "{'namespace': 'test-alerts', 'deployment': 'test-nginx-wrong-image-02'}\n",
      "{'namespace': 'test-alerts', 'deployment': 'test-nginx-wrong-image-03'}\n"
     ]
    },
    {
     "data": {
      "text/plain": [
       "[{'namespace': 'test-alerts', 'deployment': 'test-mysql'},\n",
       " {'namespace': 'test-alerts', 'deployment': 'test-mysql-01'},\n",
       " {'namespace': 'test-alerts', 'deployment': 'test-mysql-aa'},\n",
       " {'namespace': 'test-alerts', 'deployment': 'test-nginx-wrong-image-02'},\n",
       " {'namespace': 'test-alerts', 'deployment': 'test-nginx-wrong-image-03'}]"
      ]
     },
     "execution_count": 54,
     "metadata": {},
     "output_type": "execute_result"
    }
   ],
   "source": [
    "kube_deployment_replicas_mismatch()"
   ]
  },
  {
   "cell_type": "code",
   "execution_count": 55,
   "metadata": {},
   "outputs": [],
   "source": [
    "def kubectl_jsonpath():\n",
    "    pending_data = kube_deployment_replicas_mismatch()\n",
    "    cnt = len(pending_data)    \n",
    "    df_data = pd.DataFrame(pending_data)\n",
    "    #print(df_data)\n",
    "    \n",
    "    kubectl_result = []\n",
    "    for i in range(cnt):\n",
    "        namespace = df_data.namespace[i]\n",
    "        deployment = df_data.deployment[i]\n",
    "        \n",
    "        # !kubectl -n aiops get pods test-pending -o jsonpath='{.status.containerStatuses[*].state.waiting.message}' | awk -F\"\\\"\" '{print $2}'\n",
    "        \n",
    "        #\n",
    "        #cli = \"kubectl -n \" + namespace + \" get deployments \" + deployment + \\\n",
    "        #      \" -o jsonpath='{.status.containerStatuses[*].state.waiting.message}'\" + \\\n",
    "        #      \" | awk -F'\\\"' '{print $2}'\"\n",
    "        #\n",
    "        cli = \"kubectl -n \" + namespace + \" get deployments \" + deployment + \\\n",
    "              \" -o jsonpath='{.spec.template.spec.containers[*].image}'\" \n",
    "        \n",
    "        kubectl_command_line = subprocess.check_output(cli, shell=True,  encoding='utf-8')\n",
    "        #print(\"deployment 이름 : \" + deployment + \" 현재 적용된 이미지 : \" + kubectl_command_line)\n",
    "        tmp_string = namespace + \" \" + deployment + \" \" + kubectl_command_line\n",
    "        \n",
    "        ### sort :: namespace pod result        \n",
    "        kubectl_result.append(tmp_string)\n",
    "        \n",
    "    return(kubectl_result)\n",
    "    \n"
   ]
  },
  {
   "cell_type": "code",
   "execution_count": 56,
   "metadata": {},
   "outputs": [
    {
     "name": "stdout",
     "output_type": "stream",
     "text": [
      "{'namespace': 'test-alerts', 'deployment': 'test-mysql'}\n",
      "{'namespace': 'test-alerts', 'deployment': 'test-mysql-01'}\n",
      "{'namespace': 'test-alerts', 'deployment': 'test-mysql-aa'}\n",
      "{'namespace': 'test-alerts', 'deployment': 'test-nginx-wrong-image-02'}\n",
      "{'namespace': 'test-alerts', 'deployment': 'test-nginx-wrong-image-03'}\n"
     ]
    },
    {
     "data": {
      "text/plain": [
       "['test-alerts test-mysql mysqll',\n",
       " 'test-alerts test-mysql-01 mysql',\n",
       " 'test-alerts test-mysql-aa mysql',\n",
       " 'test-alerts test-nginx-wrong-image-02 nginxdf',\n",
       " 'test-alerts test-nginx-wrong-image-03 adnginxdf']"
      ]
     },
     "execution_count": 56,
     "metadata": {},
     "output_type": "execute_result"
    }
   ],
   "source": [
    "kubectl_jsonpath()"
   ]
  },
  {
   "cell_type": "code",
   "execution_count": 57,
   "metadata": {},
   "outputs": [],
   "source": [
    "def recommand_image():\n",
    "    pending_images = kubectl_jsonpath()\n",
    "    cnt = len(pending_images)\n",
    "    spell = SpellChecker()\n",
    "    spell.word_frequency.load_text_file('./words.txt')\n",
    "    \n",
    "    #result = []\n",
    "    for i in range(cnt):\n",
    "        namespace = pending_images[i].split(' ')[0]\n",
    "        deployment = pending_images[i].split(' ')[1]   \n",
    "        m_image = pending_images[i].split(' ')[2]\n",
    "        \n",
    "        #misspelled = spell.unknown([m_image])\n",
    "        tmp_recommend = spell.correction(m_image) \n",
    "        \n",
    "        '''\n",
    "          조건문 코드 개발 필요 - insert line here\n",
    "          crashLooping 일때 동일 검색이 되므로 필터가 필요함. \n",
    "          m_image == 현재 파드 image일 경우 recommand 건너뛰기\n",
    "          \n",
    "        '''\n",
    "        tmp_string = \"namespace: \" + namespace \\\n",
    "                   + \" , deployment: \" + deployment \\\n",
    "                   + \"\\n\" + \"   시스템이 \" + m_image + \" 이미지 대신 \" + tmp_recommend + \" 이미를 추천합니다.\" \\\n",
    "                   + \"\\n\" + \"아래 명령 라인을 이용해서 수정 가능합니다. \" \\\n",
    "                   + \"\\n\" + \"kubectl -n \" + namespace + \" edit deployments \" + deployment \\\n",
    "                   + \"\\n\" \n",
    "        \n",
    "        result = tmp_string\n",
    "        print(result)\n",
    "        \n",
    "    #return(result)\n",
    "    "
   ]
  },
  {
   "cell_type": "code",
   "execution_count": 58,
   "metadata": {},
   "outputs": [
    {
     "name": "stdout",
     "output_type": "stream",
     "text": [
      "{'namespace': 'test-alerts', 'deployment': 'test-mysql'}\n",
      "{'namespace': 'test-alerts', 'deployment': 'test-mysql-01'}\n",
      "{'namespace': 'test-alerts', 'deployment': 'test-mysql-aa'}\n",
      "{'namespace': 'test-alerts', 'deployment': 'test-nginx-wrong-image-02'}\n",
      "{'namespace': 'test-alerts', 'deployment': 'test-nginx-wrong-image-03'}\n",
      "namespace: test-alerts , deployment: test-mysql\n",
      "   시스템이 mysqll 이미지 대신 mysql 이미를 추천합니다.\n",
      "아래 명령 라인을 이용해서 수정 가능합니다. \n",
      "kubectl -n test-alerts edit deployments test-mysql\n",
      "\n",
      "namespace: test-alerts , deployment: test-mysql-01\n",
      "   시스템이 mysql 이미지 대신 mysql 이미를 추천합니다.\n",
      "아래 명령 라인을 이용해서 수정 가능합니다. \n",
      "kubectl -n test-alerts edit deployments test-mysql-01\n",
      "\n",
      "namespace: test-alerts , deployment: test-mysql-aa\n",
      "   시스템이 mysql 이미지 대신 mysql 이미를 추천합니다.\n",
      "아래 명령 라인을 이용해서 수정 가능합니다. \n",
      "kubectl -n test-alerts edit deployments test-mysql-aa\n",
      "\n",
      "namespace: test-alerts , deployment: test-nginx-wrong-image-02\n",
      "   시스템이 nginxdf 이미지 대신 nginx 이미를 추천합니다.\n",
      "아래 명령 라인을 이용해서 수정 가능합니다. \n",
      "kubectl -n test-alerts edit deployments test-nginx-wrong-image-02\n",
      "\n",
      "namespace: test-alerts , deployment: test-nginx-wrong-image-03\n",
      "   시스템이 adnginxdf 이미지 대신 adnginxdf 이미를 추천합니다.\n",
      "아래 명령 라인을 이용해서 수정 가능합니다. \n",
      "kubectl -n test-alerts edit deployments test-nginx-wrong-image-03\n",
      "\n",
      "None\n"
     ]
    }
   ],
   "source": [
    "if __name__==\"__main__\":\n",
    "    #print(kube_container_waiting())\n",
    "    #print(kubectl_jsonpath())\n",
    "    print(recommand_image())\n",
    "    "
   ]
  },
  {
   "cell_type": "code",
   "execution_count": null,
   "metadata": {},
   "outputs": [],
   "source": []
  }
 ],
 "metadata": {
  "kernelspec": {
   "display_name": "Python 3",
   "language": "python",
   "name": "python3"
  },
  "language_info": {
   "codemirror_mode": {
    "name": "ipython",
    "version": 3
   },
   "file_extension": ".py",
   "mimetype": "text/x-python",
   "name": "python",
   "nbconvert_exporter": "python",
   "pygments_lexer": "ipython3",
   "version": "3.7.8"
  }
 },
 "nbformat": 4,
 "nbformat_minor": 4
}
