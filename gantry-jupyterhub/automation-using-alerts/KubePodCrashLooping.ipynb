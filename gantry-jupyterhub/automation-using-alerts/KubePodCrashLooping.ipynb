{
 "cells": [
  {
   "cell_type": "code",
   "execution_count": 79,
   "metadata": {},
   "outputs": [],
   "source": [
    "import os\n",
    "import requests\n",
    "import json\n",
    "import pandas as pd\n",
    "import subprocess\n",
    "\n",
    "from spellchecker import SpellChecker"
   ]
  },
  {
   "cell_type": "code",
   "execution_count": 80,
   "metadata": {},
   "outputs": [],
   "source": [
    "prom_query_url = 'http://13.125.63.249:30915/api/v1/query?query='"
   ]
  },
  {
   "cell_type": "code",
   "execution_count": 81,
   "metadata": {},
   "outputs": [],
   "source": [
    "def call_data(url, query):\n",
    "    r = requests.get(url + query)\n",
    "    return r"
   ]
  },
  {
   "cell_type": "code",
   "execution_count": 82,
   "metadata": {},
   "outputs": [
    {
     "data": {
      "text/plain": [
       "{'status': 'success',\n",
       " 'data': {'resultType': 'vector',\n",
       "  'result': [{'metric': {'__name__': 'ALERTS',\n",
       "     'alertname': 'KubePodCrashLooping',\n",
       "     'alertstate': 'firing',\n",
       "     'container': 'mysql',\n",
       "     'endpoint': 'http',\n",
       "     'instance': '10.220.105.27:8080',\n",
       "     'job': 'kube-state-metrics',\n",
       "     'namespace': 'test-alerts',\n",
       "     'pod': 'test-mysql-01-6cc9b56f8b-5pk9x',\n",
       "     'service': 'prom-kube-state-metrics',\n",
       "     'severity': 'critical'},\n",
       "    'value': [1600933031.168, '1']},\n",
       "   {'metric': {'__name__': 'ALERTS',\n",
       "     'alertname': 'KubePodCrashLooping',\n",
       "     'alertstate': 'firing',\n",
       "     'container': 'mysql',\n",
       "     'endpoint': 'http',\n",
       "     'instance': '10.220.105.27:8080',\n",
       "     'job': 'kube-state-metrics',\n",
       "     'namespace': 'test-alerts',\n",
       "     'pod': 'test-mysql-aa-7c8575bcfc-k7n6x',\n",
       "     'service': 'prom-kube-state-metrics',\n",
       "     'severity': 'critical'},\n",
       "    'value': [1600933031.168, '1']}]}}"
      ]
     },
     "execution_count": 82,
     "metadata": {},
     "output_type": "execute_result"
    }
   ],
   "source": [
    "url_prom = 'http://13.125.63.249:30915/api/v1/query?query='\n",
    "query = 'ALERTS{alertname=\"KubePodCrashLooping\"}'\n",
    "json.loads(call_data(url_prom, query).text)\n"
   ]
  },
  {
   "cell_type": "code",
   "execution_count": 83,
   "metadata": {},
   "outputs": [],
   "source": [
    "def kube_pod_crash_looping():\n",
    "    ## Alerts case : KubePodCrashLooping\n",
    "    alert_query = 'ALERTS{alertname=\"KubePodCrashLooping\"}'\n",
    "    alert_get = call_data(prom_query_url, alert_query)\n",
    "    alert_message = json.loads(alert_get.text)\n",
    "    \n",
    "    fix_list = []\n",
    "    for item in alert_message['data']['result']:\n",
    "        #print(item)\n",
    "        check_list = {'namespace':item['metric']['namespace'], 'pod':item['metric']['pod']}\n",
    "        #check_list = {item['metric']['namespace'], item['metric']['pod']}\n",
    "        #print(check_list)        \n",
    "        fix_list.append(check_list) \n",
    "    \n",
    "    return(fix_list) "
   ]
  },
  {
   "cell_type": "code",
   "execution_count": 84,
   "metadata": {},
   "outputs": [
    {
     "data": {
      "text/plain": [
       "[{'namespace': 'test-alerts', 'pod': 'test-mysql-01-6cc9b56f8b-5pk9x'},\n",
       " {'namespace': 'test-alerts', 'pod': 'test-mysql-aa-7c8575bcfc-k7n6x'}]"
      ]
     },
     "execution_count": 84,
     "metadata": {},
     "output_type": "execute_result"
    }
   ],
   "source": [
    "kube_pod_crash_looping()"
   ]
  },
  {
   "cell_type": "code",
   "execution_count": 85,
   "metadata": {},
   "outputs": [],
   "source": [
    "def system_recommand():\n",
    "    pending_data = kube_pod_crash_looping()\n",
    "    cnt = len(pending_data)    \n",
    "    df_data = pd.DataFrame(pending_data)\n",
    "    \n",
    "    kubectl_result = []\n",
    "    for i in range(cnt):\n",
    "        namespace = df_data.namespace[i]\n",
    "        pod = df_data.pod[i]\n",
    "        \n",
    "        cli = \"kubectl -n \" + namespace + \" logs \" + pod\n",
    "        kubectl_command_line = subprocess.check_output(cli, shell=True,  encoding='utf-8')\n",
    "        \n",
    "        print(\"아래 로그로 POD가 정상 동작하지 않습니다. \")\n",
    "        print(\"네임스페이스 : \" + namespace \\\n",
    "              + \"\\n\" + \"파드 : \" + pod \\\n",
    "              + \"\\n\" + \"원인 : \" + kubectl_command_line \\\n",
    "              + \"\\n\" + \"확인 명령어\" \\\n",
    "              + \"\\n\" + cli + \"\\n\" + \"##########\"\\\n",
    "              + \"\\n\") \n",
    "         \n",
    "    #return(kubectl_result)\n",
    "    "
   ]
  },
  {
   "cell_type": "code",
   "execution_count": 86,
   "metadata": {},
   "outputs": [
    {
     "name": "stdout",
     "output_type": "stream",
     "text": [
      "아래 로그로 POD가 정상 동작하지 않습니다. \n",
      "네임스페이스 : test-alerts\n",
      "파드 : test-mysql-01-6cc9b56f8b-5pk9x\n",
      "원인 : 2020-09-24 07:34:26+00:00 [Note] [Entrypoint]: Entrypoint script for MySQL Server 8.0.21-1debian10 started.\n",
      "2020-09-24 07:34:26+00:00 [Note] [Entrypoint]: Switching to dedicated user 'mysql'\n",
      "2020-09-24 07:34:26+00:00 [Note] [Entrypoint]: Entrypoint script for MySQL Server 8.0.21-1debian10 started.\n",
      "2020-09-24 07:34:26+00:00 [ERROR] [Entrypoint]: Database is uninitialized and password option is not specified\n",
      "\tYou need to specify one of MYSQL_ROOT_PASSWORD, MYSQL_ALLOW_EMPTY_PASSWORD and MYSQL_RANDOM_ROOT_PASSWORD\n",
      "\n",
      "확인 명령어\n",
      "kubectl -n test-alerts logs test-mysql-01-6cc9b56f8b-5pk9x\n",
      "##########\n",
      "\n",
      "아래 로그로 POD가 정상 동작하지 않습니다. \n",
      "네임스페이스 : test-alerts\n",
      "파드 : test-mysql-aa-7c8575bcfc-k7n6x\n",
      "원인 : 2020-09-24 07:33:02+00:00 [Note] [Entrypoint]: Entrypoint script for MySQL Server 8.0.21-1debian10 started.\n",
      "2020-09-24 07:33:02+00:00 [Note] [Entrypoint]: Switching to dedicated user 'mysql'\n",
      "2020-09-24 07:33:02+00:00 [Note] [Entrypoint]: Entrypoint script for MySQL Server 8.0.21-1debian10 started.\n",
      "2020-09-24 07:33:02+00:00 [ERROR] [Entrypoint]: Database is uninitialized and password option is not specified\n",
      "\tYou need to specify one of MYSQL_ROOT_PASSWORD, MYSQL_ALLOW_EMPTY_PASSWORD and MYSQL_RANDOM_ROOT_PASSWORD\n",
      "\n",
      "확인 명령어\n",
      "kubectl -n test-alerts logs test-mysql-aa-7c8575bcfc-k7n6x\n",
      "##########\n",
      "\n",
      "None\n"
     ]
    }
   ],
   "source": [
    "if __name__==\"__main__\":\n",
    "    #print(kube_container_waiting())\n",
    "    #print(kubectl_jsonpath())\n",
    "    print(system_recommand())\n",
    "    "
   ]
  },
  {
   "cell_type": "code",
   "execution_count": null,
   "metadata": {},
   "outputs": [],
   "source": []
  }
 ],
 "metadata": {
  "kernelspec": {
   "display_name": "Python 3",
   "language": "python",
   "name": "python3"
  },
  "language_info": {
   "codemirror_mode": {
    "name": "ipython",
    "version": 3
   },
   "file_extension": ".py",
   "mimetype": "text/x-python",
   "name": "python",
   "nbconvert_exporter": "python",
   "pygments_lexer": "ipython3",
   "version": "3.7.8"
  }
 },
 "nbformat": 4,
 "nbformat_minor": 4
}
