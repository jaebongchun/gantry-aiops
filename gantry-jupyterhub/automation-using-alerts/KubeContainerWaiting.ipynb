{
 "cells": [
  {
   "cell_type": "markdown",
   "metadata": {},
   "source": [
    "### 터미널에서 Kubectl 설치 필요\n",
    "```\n",
    "sudo apt-get update && sudo apt-get install -y apt-transport-https gnupg2\n",
    "curl -s https://packages.cloud.google.com/apt/doc/apt-key.gpg | sudo apt-key add -\n",
    "echo \"deb https://apt.kubernetes.io/ kubernetes-xenial main\" | sudo tee -a /etc/apt/sources.list.d/kubernetes.list\n",
    "sudo apt-get update\n",
    "sudo apt-get install -y kubectl=1.16.9-00\n",
    "```"
   ]
  },
  {
   "cell_type": "markdown",
   "metadata": {},
   "source": [
    "### 전체 파드 조회가 필요하므로 .kube/config 설정 필요\n",
    "```\n",
    "vi .kube/config\n",
    "// cto config 설정 //\n",
    "```"
   ]
  },
  {
   "cell_type": "code",
   "execution_count": 66,
   "metadata": {},
   "outputs": [],
   "source": [
    "import os\n",
    "import requests\n",
    "import json\n",
    "import pandas as pd\n",
    "import subprocess\n",
    "\n",
    "from spellchecker import SpellChecker"
   ]
  },
  {
   "cell_type": "code",
   "execution_count": 67,
   "metadata": {},
   "outputs": [],
   "source": [
    "prom_query_url = 'http://13.125.63.249:30915/api/v1/query?query='"
   ]
  },
  {
   "cell_type": "code",
   "execution_count": 68,
   "metadata": {},
   "outputs": [],
   "source": [
    "def call_data(url, query):\n",
    "    r = requests.get(url + query)\n",
    "    return r"
   ]
  },
  {
   "cell_type": "code",
   "execution_count": 69,
   "metadata": {},
   "outputs": [
    {
     "data": {
      "text/plain": [
       "{'status': 'success',\n",
       " 'data': {'resultType': 'vector',\n",
       "  'result': [{'metric': {'__name__': 'ALERTS',\n",
       "     'alertname': 'KubeContainerWaiting',\n",
       "     'alertstate': 'pending',\n",
       "     'container': 'mysqll',\n",
       "     'namespace': 'test-alerts',\n",
       "     'pod': 'test-mysql-5f88855958-446vq',\n",
       "     'severity': 'warning'},\n",
       "    'value': [1600678749.289, '1']},\n",
       "   {'metric': {'__name__': 'ALERTS',\n",
       "     'alertname': 'KubeContainerWaiting',\n",
       "     'alertstate': 'pending',\n",
       "     'container': 'test-nginx',\n",
       "     'namespace': 'test-alerts',\n",
       "     'pod': 'test-nginx',\n",
       "     'severity': 'warning'},\n",
       "    'value': [1600678749.289, '1']}]}}"
      ]
     },
     "execution_count": 69,
     "metadata": {},
     "output_type": "execute_result"
    }
   ],
   "source": [
    "url_prom = 'http://13.125.63.249:30915/api/v1/query?query='\n",
    "query = 'ALERTS{alertname=\"KubeContainerWaiting\"}'\n",
    "json.loads(call_data(url_prom, query).text)\n"
   ]
  },
  {
   "cell_type": "code",
   "execution_count": 70,
   "metadata": {},
   "outputs": [],
   "source": [
    "def kube_container_waiting():\n",
    "    ## Alerts case : KubeContainerWaiting\n",
    "    alert_query = 'ALERTS{alertname=\"KubeContainerWaiting\"}'\n",
    "    alert_get = call_data(prom_query_url, alert_query)\n",
    "    alert_message = json.loads(alert_get.text)\n",
    "    \n",
    "    fix_list = []\n",
    "    for item in alert_message['data']['result']:\n",
    "        #print(item)\n",
    "        check_list = {'namespace':item['metric']['namespace'], 'pod':item['metric']['pod']}\n",
    "        #check_list = {item['metric']['namespace'], item['metric']['pod']}\n",
    "        print(check_list)        \n",
    "        fix_list.append(check_list)     \n",
    "    \n",
    "    return(fix_list) "
   ]
  },
  {
   "cell_type": "code",
   "execution_count": 71,
   "metadata": {},
   "outputs": [],
   "source": [
    "def kubectl_jsonpath():\n",
    "    pending_data = kube_container_waiting()\n",
    "    cnt = len(pending_data)    \n",
    "    df_data = pd.DataFrame(pending_data)\n",
    "    #print(df_data)\n",
    "    \n",
    "    kubectl_result = []\n",
    "    for i in range(cnt):\n",
    "        namespace = df_data.namespace[i]\n",
    "        pod = df_data.pod[i]\n",
    "        \n",
    "        # !kubectl -n aiops get pods test-pending -o jsonpath='{.status.containerStatuses[*].state.waiting.message}' | awk -F\"\\\"\" '{print $2}'\n",
    "        cli = \"kubectl -n \" + namespace + \" get pods \" + pod + \\\n",
    "              \" -o jsonpath='{.status.containerStatuses[*].state.waiting.message}'\" + \\\n",
    "              \" | awk -F'\\\"' '{print $2}'\"\n",
    "        \n",
    "        kubectl_command_line = subprocess.check_output(cli, shell=True,  encoding='utf-8')\n",
    "        print(\"Pod 이름 : \" + pod + \" 현재 적용된 이미지 : \" + kubectl_command_line)\n",
    "        tmp_string = namespace + \" \" + pod + \" \" + kubectl_command_line\n",
    "        \n",
    "        ### sort :: namespace pod result        \n",
    "        kubectl_result.append(tmp_string)\n",
    "        \n",
    "    return(kubectl_result)\n",
    "    \n"
   ]
  },
  {
   "cell_type": "code",
   "execution_count": 72,
   "metadata": {},
   "outputs": [],
   "source": [
    "def recommand_image():\n",
    "    pending_images = kubectl_jsonpath()\n",
    "    cnt = len(pending_images)\n",
    "    spell = SpellChecker()\n",
    "    spell.word_frequency.load_text_file('./words.txt')\n",
    "    \n",
    "    #result = []\n",
    "    for i in range(cnt):\n",
    "        namespace = pending_images[i].split(' ')[0]\n",
    "        pod = pending_images[i].split(' ')[1]   \n",
    "        m_image = pending_images[i].split(' ')[2]\n",
    "        \n",
    "        #misspelled = spell.unknown([m_image])\n",
    "        tmp_recommend = spell.correction(m_image)\n",
    "        tmp_string = \"namespace: \" + namespace \\\n",
    "                   + \" , pod: \" + pod \\\n",
    "                   + \"\\n\" + \"   =====> Please Check your Pull Image. May be : \" + tmp_recommend \n",
    "        result = tmp_string\n",
    "        print(result)\n",
    "        \n",
    "    #return(result)\n",
    "    "
   ]
  },
  {
   "cell_type": "code",
   "execution_count": 73,
   "metadata": {},
   "outputs": [
    {
     "name": "stdout",
     "output_type": "stream",
     "text": [
      "{'namespace': 'test-alerts', 'pod': 'test-mysql-5f88855958-446vq'}\n",
      "{'namespace': 'test-alerts', 'pod': 'test-nginx'}\n",
      "Pod 이름 : test-mysql-5f88855958-446vq 현재 적용된 이미지 : mysqll\n",
      "\n",
      "Pod 이름 : test-nginx 현재 적용된 이미지 : niginx\n",
      "\n",
      "namespace: test-alerts , pod: test-mysql-5f88855958-446vq\n",
      "   =====> Please Check your Pull Image. May be : mysql\n",
      "namespace: test-alerts , pod: test-nginx\n",
      "   =====> Please Check your Pull Image. May be : nginx\n",
      "None\n"
     ]
    }
   ],
   "source": [
    "if __name__==\"__main__\":\n",
    "    #print(kube_container_waiting())\n",
    "    #print(kubectl_jsonpath())\n",
    "    print(recommand_image())\n",
    "    "
   ]
  },
  {
   "cell_type": "code",
   "execution_count": null,
   "metadata": {},
   "outputs": [],
   "source": []
  }
 ],
 "metadata": {
  "kernelspec": {
   "display_name": "Python 3",
   "language": "python",
   "name": "python3"
  },
  "language_info": {
   "codemirror_mode": {
    "name": "ipython",
    "version": 3
   },
   "file_extension": ".py",
   "mimetype": "text/x-python",
   "name": "python",
   "nbconvert_exporter": "python",
   "pygments_lexer": "ipython3",
   "version": "3.7.8"
  }
 },
 "nbformat": 4,
 "nbformat_minor": 4
}
